{
 "cells": [
  {
   "cell_type": "markdown",
   "metadata": {},
   "source": [
    "### Note\n",
    "* Instructions have been included for each segment. You do not have to follow them exactly, but they are included to help you think through the steps."
   ]
  },
  {
   "cell_type": "code",
   "execution_count": 27,
   "metadata": {},
   "outputs": [],
   "source": [
    "# Dependencies and Setup\n",
    "import pandas as pd\n",
    "from pathlib import Path\n",
    "\n",
    "# File to Load (Remember to Change These)\n",
    "school_data_to_load = Path(\"Resources/schools_complete.csv\")\n",
    "student_data_to_load = Path(\"Resources/students_complete.csv\")\n",
    "\n",
    "# Read School and Student Data File and store into Pandas DataFrames\n",
    "school_data = pd.read_csv(school_data_to_load)\n",
    "student_data = pd.read_csv(student_data_to_load)\n",
    "\n",
    "# Combine the data into a single dataset.  \n",
    "school_data_complete = pd.merge(student_data, school_data, how=\"left\", on=[\"school_name\", \"school_name\"])"
   ]
  },
  {
   "cell_type": "markdown",
   "metadata": {},
   "source": [
    "## Local Government Area Summary\n",
    "\n",
    "* Calculate the total number of schools\n",
    "\n",
    "* Calculate the total number of students\n",
    "\n",
    "* Calculate the total budget\n",
    "\n",
    "* Calculate the average maths score \n",
    "\n",
    "* Calculate the average reading score\n",
    "\n",
    "* Calculate the percentage of students with a passing maths score (50 or greater)\n",
    "\n",
    "* Calculate the percentage of students with a passing reading score (50 or greater)\n",
    "\n",
    "* Calculate the percentage of students who passed maths **and** reading (% Overall Passing)\n",
    "\n",
    "* Create a dataframe to hold the above results\n",
    "\n",
    "* Optional: give the displayed data cleaner formatting"
   ]
  },
  {
   "cell_type": "code",
   "execution_count": 28,
   "metadata": {},
   "outputs": [
    {
     "data": {
      "text/plain": [
       "15"
      ]
     },
     "execution_count": 28,
     "metadata": {},
     "output_type": "execute_result"
    }
   ],
   "source": [
    "totalSchools = len(school_data_complete['school_name'].unique())\n",
    "totalSchools\n",
    "#school_data_complete.columns"
   ]
  },
  {
   "cell_type": "code",
   "execution_count": 29,
   "metadata": {},
   "outputs": [
    {
     "data": {
      "text/plain": [
       "39170"
      ]
     },
     "execution_count": 29,
     "metadata": {},
     "output_type": "execute_result"
    }
   ],
   "source": [
    "totalStudents = school_data_complete['student_name'].count()\n",
    "totalStudents"
   ]
  },
  {
   "cell_type": "code",
   "execution_count": 30,
   "metadata": {},
   "outputs": [
    {
     "data": {
      "text/plain": [
       "Index(['Student ID', 'student_name', 'gender', 'year', 'school_name',\n",
       "       'reading_score', 'maths_score', 'School ID', 'type', 'size', 'budget'],\n",
       "      dtype='object')"
      ]
     },
     "execution_count": 30,
     "metadata": {},
     "output_type": "execute_result"
    }
   ],
   "source": [
    "school_data_complete.columns"
   ]
  },
  {
   "cell_type": "code",
   "execution_count": 31,
   "metadata": {},
   "outputs": [
    {
     "data": {
      "text/plain": [
       "24649428"
      ]
     },
     "execution_count": 31,
     "metadata": {},
     "output_type": "execute_result"
    }
   ],
   "source": [
    "totalBudget = school_data_complete['budget'].unique().sum()\n",
    "totalBudget"
   ]
  },
  {
   "cell_type": "code",
   "execution_count": 32,
   "metadata": {},
   "outputs": [
    {
     "data": {
      "text/plain": [
       "70.33819249425581"
      ]
     },
     "execution_count": 32,
     "metadata": {},
     "output_type": "execute_result"
    }
   ],
   "source": [
    "averageMaths = school_data_complete['maths_score'].mean()\n",
    "averageMaths"
   ]
  },
  {
   "cell_type": "code",
   "execution_count": 33,
   "metadata": {},
   "outputs": [
    {
     "data": {
      "text/plain": [
       "69.98013786060761"
      ]
     },
     "execution_count": 33,
     "metadata": {},
     "output_type": "execute_result"
    }
   ],
   "source": [
    "averageReading = school_data_complete['reading_score'].mean()\n",
    "averageReading"
   ]
  },
  {
   "cell_type": "code",
   "execution_count": 34,
   "metadata": {},
   "outputs": [
    {
     "data": {
      "text/plain": [
       "86.07863160582077"
      ]
     },
     "execution_count": 34,
     "metadata": {},
     "output_type": "execute_result"
    }
   ],
   "source": [
    "studentsPassingMaths = school_data_complete.loc[school_data_complete['maths_score'] >= 50].count()\n",
    "passingMaths = (studentsPassingMaths / school_data_complete['Student ID'].count())*100\n",
    "passingMaths.iloc[0]"
   ]
  },
  {
   "cell_type": "code",
   "execution_count": 35,
   "metadata": {},
   "outputs": [
    {
     "data": {
      "text/plain": [
       "84.42685728874139"
      ]
     },
     "execution_count": 35,
     "metadata": {},
     "output_type": "execute_result"
    }
   ],
   "source": [
    "studentsPassingReading = school_data_complete.loc[school_data_complete['reading_score'] >= 50].count()\n",
    "passingReading = (studentsPassingReading / school_data_complete['Student ID'].count())*100\n",
    "passingReading.iloc[0]"
   ]
  },
  {
   "cell_type": "code",
   "execution_count": 36,
   "metadata": {},
   "outputs": [
    {
     "data": {
      "text/plain": [
       "72.80827163645647"
      ]
     },
     "execution_count": 36,
     "metadata": {},
     "output_type": "execute_result"
    }
   ],
   "source": [
    "studentsPassingReadingANDMaths = school_data_complete.loc[(school_data_complete['reading_score'] >= 50) &\\\n",
    "                                                  (school_data_complete['maths_score'] >= 50)].count()\n",
    "overall = (studentsPassingReadingANDMaths / school_data_complete['Student ID'].count())*100\n",
    "overall.iloc[0]"
   ]
  },
  {
   "cell_type": "code",
   "execution_count": 37,
   "metadata": {},
   "outputs": [
    {
     "data": {
      "text/html": [
       "<div>\n",
       "<style scoped>\n",
       "    .dataframe tbody tr th:only-of-type {\n",
       "        vertical-align: middle;\n",
       "    }\n",
       "\n",
       "    .dataframe tbody tr th {\n",
       "        vertical-align: top;\n",
       "    }\n",
       "\n",
       "    .dataframe thead th {\n",
       "        text-align: right;\n",
       "    }\n",
       "</style>\n",
       "<table border=\"1\" class=\"dataframe\">\n",
       "  <thead>\n",
       "    <tr style=\"text-align: right;\">\n",
       "      <th></th>\n",
       "      <th>Total Schools</th>\n",
       "      <th>Total Students</th>\n",
       "      <th>Total Budget</th>\n",
       "      <th>Average Maths Score</th>\n",
       "      <th>Average Reading Score</th>\n",
       "      <th>% Passing Maths</th>\n",
       "      <th>% Passing Reading</th>\n",
       "      <th>% Overall Passing</th>\n",
       "    </tr>\n",
       "  </thead>\n",
       "  <tbody>\n",
       "    <tr>\n",
       "      <th>0</th>\n",
       "      <td>15</td>\n",
       "      <td>39,170</td>\n",
       "      <td>$24,649,428.00</td>\n",
       "      <td>70.34</td>\n",
       "      <td>69.98</td>\n",
       "      <td>86.08</td>\n",
       "      <td>84.43</td>\n",
       "      <td>72.81</td>\n",
       "    </tr>\n",
       "  </tbody>\n",
       "</table>\n",
       "</div>"
      ],
      "text/plain": [
       "   Total Schools Total Students    Total Budget Average Maths Score  \\\n",
       "0             15         39,170  $24,649,428.00               70.34   \n",
       "\n",
       "  Average Reading Score % Passing Maths % Passing Reading % Overall Passing  \n",
       "0                 69.98           86.08             84.43             72.81  "
      ]
     },
     "execution_count": 37,
     "metadata": {},
     "output_type": "execute_result"
    }
   ],
   "source": [
    "area_summary = pd.DataFrame({'Total Schools':[totalSchools],\n",
    "                              'Total Students':[totalStudents],\n",
    "                              'Total Budget':[totalBudget],\n",
    "                              'Average Maths Score':[averageMaths],\n",
    "                              'Average Reading Score':[averageReading],\n",
    "                              '% Passing Maths':[passingMaths.iloc[0]],\n",
    "                              '% Passing Reading':[passingReading.iloc[0]],\n",
    "                              '% Overall Passing':[overall.iloc[0]]})\n",
    "\n",
    "area_summary['Total Students'] = area_summary['Total Students'].map('{:,.0f}'.format)\n",
    "area_summary['Total Budget'] = area_summary['Total Budget'].map('${:,.2f}'.format)\n",
    "area_summary['Average Maths Score'] = area_summary['Average Maths Score'].map('{:.2f}'.format)\n",
    "area_summary['Average Reading Score'] = area_summary['Average Reading Score'].map('{:.2f}'.format)\n",
    "area_summary['% Passing Maths'] = area_summary['% Passing Maths'].map('{:.2f}'.format)\n",
    "area_summary['% Passing Reading'] = area_summary['% Passing Reading'].map('{:.2f}'.format)\n",
    "area_summary['% Overall Passing'] = area_summary['% Overall Passing'].map('{:.2f}'.format)\n",
    "\n",
    "area_summary"
   ]
  },
  {
   "cell_type": "markdown",
   "metadata": {},
   "source": [
    "## School Summary"
   ]
  },
  {
   "cell_type": "markdown",
   "metadata": {},
   "source": [
    "* Create an overview table that summarises key metrics about each school, including:\n",
    "  * School Name\n",
    "  * School Type\n",
    "  * Total Students\n",
    "  * Total School Budget\n",
    "  * Per Student Budget\n",
    "  * Average Maths Score\n",
    "  * Average Reading Score\n",
    "  * % Passing Maths\n",
    "  * % Passing Reading\n",
    "  * % Overall Passing (The percentage of students that passed maths **and** reading.)\n",
    "  \n",
    "* Create a dataframe to hold the above results"
   ]
  },
  {
   "cell_type": "code",
   "execution_count": 38,
   "metadata": {},
   "outputs": [
    {
     "data": {
      "text/plain": [
       "school_name\n",
       "Huang High School         Government\n",
       "Figueroa High School      Government\n",
       "Shelton High School      Independent\n",
       "Hernandez High School     Government\n",
       "Griffin High School      Independent\n",
       "Wilson High School       Independent\n",
       "Cabrera High School      Independent\n",
       "Bailey High School        Government\n",
       "Holden High School       Independent\n",
       "Pena High School         Independent\n",
       "Wright High School       Independent\n",
       "Rodriguez High School     Government\n",
       "Johnson High School       Government\n",
       "Ford High School          Government\n",
       "Thomas High School       Independent\n",
       "Name: type, dtype: object"
      ]
     },
     "execution_count": 38,
     "metadata": {},
     "output_type": "execute_result"
    }
   ],
   "source": [
    "school_type = school_data.set_index('school_name')['type']\n",
    "school_type"
   ]
  },
  {
   "cell_type": "code",
   "execution_count": 39,
   "metadata": {},
   "outputs": [
    {
     "data": {
      "text/plain": [
       "Bailey High School       4976\n",
       "Johnson High School      4761\n",
       "Hernandez High School    4635\n",
       "Rodriguez High School    3999\n",
       "Figueroa High School     2949\n",
       "Huang High School        2917\n",
       "Ford High School         2739\n",
       "Wilson High School       2283\n",
       "Cabrera High School      1858\n",
       "Wright High School       1800\n",
       "Shelton High School      1761\n",
       "Thomas High School       1635\n",
       "Griffin High School      1468\n",
       "Pena High School          962\n",
       "Holden High School        427\n",
       "Name: school_name, dtype: int64"
      ]
     },
     "execution_count": 39,
     "metadata": {},
     "output_type": "execute_result"
    }
   ],
   "source": [
    "school_student = school_data_complete['school_name'].value_counts()\n",
    "school_student"
   ]
  },
  {
   "cell_type": "code",
   "execution_count": 40,
   "metadata": {},
   "outputs": [
    {
     "data": {
      "text/plain": [
       "school_name\n",
       "Huang High School        1910635\n",
       "Figueroa High School     1884411\n",
       "Shelton High School      1056600\n",
       "Hernandez High School    3022020\n",
       "Griffin High School       917500\n",
       "Wilson High School       1319574\n",
       "Cabrera High School      1081356\n",
       "Bailey High School       3124928\n",
       "Holden High School        248087\n",
       "Pena High School          585858\n",
       "Wright High School       1049400\n",
       "Rodriguez High School    2547363\n",
       "Johnson High School      3094650\n",
       "Ford High School         1763916\n",
       "Thomas High School       1043130\n",
       "Name: budget, dtype: int64"
      ]
     },
     "execution_count": 40,
     "metadata": {},
     "output_type": "execute_result"
    }
   ],
   "source": [
    "school_budget = school_data.set_index('school_name')['budget']\n",
    "school_budget"
   ]
  },
  {
   "cell_type": "code",
   "execution_count": 41,
   "metadata": {},
   "outputs": [
    {
     "data": {
      "text/plain": [
       "Bailey High School       628.0\n",
       "Cabrera High School      582.0\n",
       "Figueroa High School     639.0\n",
       "Ford High School         644.0\n",
       "Griffin High School      625.0\n",
       "Hernandez High School    652.0\n",
       "Holden High School       581.0\n",
       "Huang High School        655.0\n",
       "Johnson High School      650.0\n",
       "Pena High School         609.0\n",
       "Rodriguez High School    637.0\n",
       "Shelton High School      600.0\n",
       "Thomas High School       638.0\n",
       "Wilson High School       578.0\n",
       "Wright High School       583.0\n",
       "dtype: float64"
      ]
     },
     "execution_count": 41,
     "metadata": {},
     "output_type": "execute_result"
    }
   ],
   "source": [
    "student_budget = school_budget / school_student\n",
    "student_budget"
   ]
  },
  {
   "cell_type": "code",
   "execution_count": 42,
   "metadata": {},
   "outputs": [
    {
     "name": "stderr",
     "output_type": "stream",
     "text": [
      "C:\\Users\\danie\\AppData\\Local\\Temp\\ipykernel_29716\\2006041715.py:1: FutureWarning: The default value of numeric_only in DataFrameGroupBy.mean is deprecated. In a future version, numeric_only will default to False. Either specify numeric_only or select only columns which should be valid for the function.\n",
      "  average_school_maths = school_data_complete.groupby('school_name').mean()['maths_score']\n"
     ]
    },
    {
     "data": {
      "text/plain": [
       "school_name\n",
       "Bailey High School       72.352894\n",
       "Cabrera High School      71.657158\n",
       "Figueroa High School     68.698542\n",
       "Ford High School         69.091274\n",
       "Griffin High School      71.788147\n",
       "Hernandez High School    68.874865\n",
       "Holden High School       72.583138\n",
       "Huang High School        68.935207\n",
       "Johnson High School      68.843100\n",
       "Pena High School         72.088358\n",
       "Rodriguez High School    72.047762\n",
       "Shelton High School      72.034072\n",
       "Thomas High School       69.581651\n",
       "Wilson High School       69.170828\n",
       "Wright High School       72.047222\n",
       "Name: maths_score, dtype: float64"
      ]
     },
     "execution_count": 42,
     "metadata": {},
     "output_type": "execute_result"
    }
   ],
   "source": [
    "average_school_maths = school_data_complete.groupby('school_name').mean()['maths_score']\n",
    "average_school_maths"
   ]
  },
  {
   "cell_type": "code",
   "execution_count": 43,
   "metadata": {},
   "outputs": [
    {
     "name": "stderr",
     "output_type": "stream",
     "text": [
      "C:\\Users\\danie\\AppData\\Local\\Temp\\ipykernel_29716\\1159727126.py:1: FutureWarning: The default value of numeric_only in DataFrameGroupBy.mean is deprecated. In a future version, numeric_only will default to False. Either specify numeric_only or select only columns which should be valid for the function.\n",
      "  average_school_reading = school_data_complete.groupby('school_name').mean()['reading_score']\n"
     ]
    },
    {
     "data": {
      "text/plain": [
       "school_name\n",
       "Bailey High School       71.008842\n",
       "Cabrera High School      71.359526\n",
       "Figueroa High School     69.077993\n",
       "Ford High School         69.572472\n",
       "Griffin High School      71.245232\n",
       "Hernandez High School    69.186408\n",
       "Holden High School       71.660422\n",
       "Huang High School        68.910525\n",
       "Johnson High School      69.039277\n",
       "Pena High School         71.613306\n",
       "Rodriguez High School    70.935984\n",
       "Shelton High School      70.257808\n",
       "Thomas High School       69.768807\n",
       "Wilson High School       68.876916\n",
       "Wright High School       70.969444\n",
       "Name: reading_score, dtype: float64"
      ]
     },
     "execution_count": 43,
     "metadata": {},
     "output_type": "execute_result"
    }
   ],
   "source": [
    "average_school_reading = school_data_complete.groupby('school_name').mean()['reading_score']\n",
    "average_school_reading"
   ]
  },
  {
   "cell_type": "code",
   "execution_count": 44,
   "metadata": {},
   "outputs": [
    {
     "data": {
      "text/plain": [
       "Bailey High School       91.639871\n",
       "Cabrera High School      90.850377\n",
       "Figueroa High School     81.654798\n",
       "Ford High School         82.438846\n",
       "Griffin High School      91.212534\n",
       "Hernandez High School    80.949299\n",
       "Holden High School       89.929742\n",
       "Huang High School        81.693521\n",
       "Johnson High School      82.062592\n",
       "Pena High School         91.683992\n",
       "Rodriguez High School    90.797699\n",
       "Shelton High School      91.538898\n",
       "Thomas High School       83.853211\n",
       "Wilson High School       82.785808\n",
       "Wright High School       91.777778\n",
       "dtype: float64"
      ]
     },
     "execution_count": 44,
     "metadata": {},
     "output_type": "execute_result"
    }
   ],
   "source": [
    "school_maths = school_data_complete[school_data_complete['maths_score'] >= 50]\n",
    "per_school_maths = school_maths.groupby('school_name').count()[\"Student ID\"] / school_student * 100\n",
    "per_school_maths"
   ]
  },
  {
   "cell_type": "code",
   "execution_count": 45,
   "metadata": {},
   "outputs": [
    {
     "data": {
      "text/plain": [
       "Bailey High School       87.379421\n",
       "Cabrera High School      89.074273\n",
       "Figueroa High School     82.807731\n",
       "Ford High School         82.219788\n",
       "Griffin High School      88.487738\n",
       "Hernandez High School    81.877023\n",
       "Holden High School       88.524590\n",
       "Huang High School        81.453548\n",
       "Johnson High School      81.978576\n",
       "Pena High School         86.590437\n",
       "Rodriguez High School    87.396849\n",
       "Shelton High School      86.712095\n",
       "Thomas High School       82.629969\n",
       "Wilson High School       81.296540\n",
       "Wright High School       86.666667\n",
       "dtype: float64"
      ]
     },
     "execution_count": 45,
     "metadata": {},
     "output_type": "execute_result"
    }
   ],
   "source": [
    "school_reading = school_data_complete[school_data_complete['reading_score'] >= 50]\n",
    "per_school_reading = school_reading.groupby('school_name').count()[\"Student ID\"] / school_student * 100\n",
    "per_school_reading"
   ]
  },
  {
   "cell_type": "code",
   "execution_count": 46,
   "metadata": {},
   "outputs": [
    {
     "data": {
      "text/plain": [
       "Bailey High School       80.084405\n",
       "Cabrera High School      80.785791\n",
       "Figueroa High School     67.650051\n",
       "Ford High School         67.469880\n",
       "Griffin High School      81.335150\n",
       "Hernandez High School    66.364617\n",
       "Holden High School       78.922717\n",
       "Huang High School        66.712376\n",
       "Johnson High School      67.191766\n",
       "Pena High School         79.209979\n",
       "Rodriguez High School    79.419855\n",
       "Shelton High School      78.875639\n",
       "Thomas High School       69.480122\n",
       "Wilson High School       67.455103\n",
       "Wright High School       79.722222\n",
       "dtype: float64"
      ]
     },
     "execution_count": 46,
     "metadata": {},
     "output_type": "execute_result"
    }
   ],
   "source": [
    "school_overall = school_data_complete.loc[(school_data_complete['reading_score'] >= 50) &\\\n",
    "                                          (school_data_complete['maths_score'] >= 50)]\n",
    "per_school_overall = school_overall.groupby('school_name').count()[\"Student ID\"] / school_student * 100\n",
    "per_school_overall"
   ]
  },
  {
   "cell_type": "code",
   "execution_count": 47,
   "metadata": {},
   "outputs": [
    {
     "data": {
      "text/html": [
       "<div>\n",
       "<style scoped>\n",
       "    .dataframe tbody tr th:only-of-type {\n",
       "        vertical-align: middle;\n",
       "    }\n",
       "\n",
       "    .dataframe tbody tr th {\n",
       "        vertical-align: top;\n",
       "    }\n",
       "\n",
       "    .dataframe thead th {\n",
       "        text-align: right;\n",
       "    }\n",
       "</style>\n",
       "<table border=\"1\" class=\"dataframe\">\n",
       "  <thead>\n",
       "    <tr style=\"text-align: right;\">\n",
       "      <th></th>\n",
       "      <th>School Type</th>\n",
       "      <th>Total Student</th>\n",
       "      <th>Total School Budget</th>\n",
       "      <th>Per Student Budget</th>\n",
       "      <th>Average Math Score</th>\n",
       "      <th>Average Reading Score</th>\n",
       "      <th>% Passing Maths</th>\n",
       "      <th>% Passing Reading</th>\n",
       "      <th>% Overall Passing</th>\n",
       "    </tr>\n",
       "  </thead>\n",
       "  <tbody>\n",
       "    <tr>\n",
       "      <th>Bailey High School</th>\n",
       "      <td>Government</td>\n",
       "      <td>4976</td>\n",
       "      <td>$3,124,928.00</td>\n",
       "      <td>$628.00</td>\n",
       "      <td>72.352894</td>\n",
       "      <td>71.008842</td>\n",
       "      <td>91.639871</td>\n",
       "      <td>87.379421</td>\n",
       "      <td>80.084405</td>\n",
       "    </tr>\n",
       "    <tr>\n",
       "      <th>Cabrera High School</th>\n",
       "      <td>Independent</td>\n",
       "      <td>1858</td>\n",
       "      <td>$1,081,356.00</td>\n",
       "      <td>$582.00</td>\n",
       "      <td>71.657158</td>\n",
       "      <td>71.359526</td>\n",
       "      <td>90.850377</td>\n",
       "      <td>89.074273</td>\n",
       "      <td>80.785791</td>\n",
       "    </tr>\n",
       "    <tr>\n",
       "      <th>Figueroa High School</th>\n",
       "      <td>Government</td>\n",
       "      <td>2949</td>\n",
       "      <td>$1,884,411.00</td>\n",
       "      <td>$639.00</td>\n",
       "      <td>68.698542</td>\n",
       "      <td>69.077993</td>\n",
       "      <td>81.654798</td>\n",
       "      <td>82.807731</td>\n",
       "      <td>67.650051</td>\n",
       "    </tr>\n",
       "    <tr>\n",
       "      <th>Ford High School</th>\n",
       "      <td>Government</td>\n",
       "      <td>2739</td>\n",
       "      <td>$1,763,916.00</td>\n",
       "      <td>$644.00</td>\n",
       "      <td>69.091274</td>\n",
       "      <td>69.572472</td>\n",
       "      <td>82.438846</td>\n",
       "      <td>82.219788</td>\n",
       "      <td>67.469880</td>\n",
       "    </tr>\n",
       "    <tr>\n",
       "      <th>Griffin High School</th>\n",
       "      <td>Independent</td>\n",
       "      <td>1468</td>\n",
       "      <td>$917,500.00</td>\n",
       "      <td>$625.00</td>\n",
       "      <td>71.788147</td>\n",
       "      <td>71.245232</td>\n",
       "      <td>91.212534</td>\n",
       "      <td>88.487738</td>\n",
       "      <td>81.335150</td>\n",
       "    </tr>\n",
       "    <tr>\n",
       "      <th>Hernandez High School</th>\n",
       "      <td>Government</td>\n",
       "      <td>4635</td>\n",
       "      <td>$3,022,020.00</td>\n",
       "      <td>$652.00</td>\n",
       "      <td>68.874865</td>\n",
       "      <td>69.186408</td>\n",
       "      <td>80.949299</td>\n",
       "      <td>81.877023</td>\n",
       "      <td>66.364617</td>\n",
       "    </tr>\n",
       "    <tr>\n",
       "      <th>Holden High School</th>\n",
       "      <td>Independent</td>\n",
       "      <td>427</td>\n",
       "      <td>$248,087.00</td>\n",
       "      <td>$581.00</td>\n",
       "      <td>72.583138</td>\n",
       "      <td>71.660422</td>\n",
       "      <td>89.929742</td>\n",
       "      <td>88.524590</td>\n",
       "      <td>78.922717</td>\n",
       "    </tr>\n",
       "    <tr>\n",
       "      <th>Huang High School</th>\n",
       "      <td>Government</td>\n",
       "      <td>2917</td>\n",
       "      <td>$1,910,635.00</td>\n",
       "      <td>$655.00</td>\n",
       "      <td>68.935207</td>\n",
       "      <td>68.910525</td>\n",
       "      <td>81.693521</td>\n",
       "      <td>81.453548</td>\n",
       "      <td>66.712376</td>\n",
       "    </tr>\n",
       "    <tr>\n",
       "      <th>Johnson High School</th>\n",
       "      <td>Government</td>\n",
       "      <td>4761</td>\n",
       "      <td>$3,094,650.00</td>\n",
       "      <td>$650.00</td>\n",
       "      <td>68.843100</td>\n",
       "      <td>69.039277</td>\n",
       "      <td>82.062592</td>\n",
       "      <td>81.978576</td>\n",
       "      <td>67.191766</td>\n",
       "    </tr>\n",
       "    <tr>\n",
       "      <th>Pena High School</th>\n",
       "      <td>Independent</td>\n",
       "      <td>962</td>\n",
       "      <td>$585,858.00</td>\n",
       "      <td>$609.00</td>\n",
       "      <td>72.088358</td>\n",
       "      <td>71.613306</td>\n",
       "      <td>91.683992</td>\n",
       "      <td>86.590437</td>\n",
       "      <td>79.209979</td>\n",
       "    </tr>\n",
       "    <tr>\n",
       "      <th>Rodriguez High School</th>\n",
       "      <td>Government</td>\n",
       "      <td>3999</td>\n",
       "      <td>$2,547,363.00</td>\n",
       "      <td>$637.00</td>\n",
       "      <td>72.047762</td>\n",
       "      <td>70.935984</td>\n",
       "      <td>90.797699</td>\n",
       "      <td>87.396849</td>\n",
       "      <td>79.419855</td>\n",
       "    </tr>\n",
       "    <tr>\n",
       "      <th>Shelton High School</th>\n",
       "      <td>Independent</td>\n",
       "      <td>1761</td>\n",
       "      <td>$1,056,600.00</td>\n",
       "      <td>$600.00</td>\n",
       "      <td>72.034072</td>\n",
       "      <td>70.257808</td>\n",
       "      <td>91.538898</td>\n",
       "      <td>86.712095</td>\n",
       "      <td>78.875639</td>\n",
       "    </tr>\n",
       "    <tr>\n",
       "      <th>Thomas High School</th>\n",
       "      <td>Independent</td>\n",
       "      <td>1635</td>\n",
       "      <td>$1,043,130.00</td>\n",
       "      <td>$638.00</td>\n",
       "      <td>69.581651</td>\n",
       "      <td>69.768807</td>\n",
       "      <td>83.853211</td>\n",
       "      <td>82.629969</td>\n",
       "      <td>69.480122</td>\n",
       "    </tr>\n",
       "    <tr>\n",
       "      <th>Wilson High School</th>\n",
       "      <td>Independent</td>\n",
       "      <td>2283</td>\n",
       "      <td>$1,319,574.00</td>\n",
       "      <td>$578.00</td>\n",
       "      <td>69.170828</td>\n",
       "      <td>68.876916</td>\n",
       "      <td>82.785808</td>\n",
       "      <td>81.296540</td>\n",
       "      <td>67.455103</td>\n",
       "    </tr>\n",
       "    <tr>\n",
       "      <th>Wright High School</th>\n",
       "      <td>Independent</td>\n",
       "      <td>1800</td>\n",
       "      <td>$1,049,400.00</td>\n",
       "      <td>$583.00</td>\n",
       "      <td>72.047222</td>\n",
       "      <td>70.969444</td>\n",
       "      <td>91.777778</td>\n",
       "      <td>86.666667</td>\n",
       "      <td>79.722222</td>\n",
       "    </tr>\n",
       "  </tbody>\n",
       "</table>\n",
       "</div>"
      ],
      "text/plain": [
       "                       School Type  Total Student Total School Budget  \\\n",
       "Bailey High School      Government           4976       $3,124,928.00   \n",
       "Cabrera High School    Independent           1858       $1,081,356.00   \n",
       "Figueroa High School    Government           2949       $1,884,411.00   \n",
       "Ford High School        Government           2739       $1,763,916.00   \n",
       "Griffin High School    Independent           1468         $917,500.00   \n",
       "Hernandez High School   Government           4635       $3,022,020.00   \n",
       "Holden High School     Independent            427         $248,087.00   \n",
       "Huang High School       Government           2917       $1,910,635.00   \n",
       "Johnson High School     Government           4761       $3,094,650.00   \n",
       "Pena High School       Independent            962         $585,858.00   \n",
       "Rodriguez High School   Government           3999       $2,547,363.00   \n",
       "Shelton High School    Independent           1761       $1,056,600.00   \n",
       "Thomas High School     Independent           1635       $1,043,130.00   \n",
       "Wilson High School     Independent           2283       $1,319,574.00   \n",
       "Wright High School     Independent           1800       $1,049,400.00   \n",
       "\n",
       "                      Per Student Budget  Average Math Score  \\\n",
       "Bailey High School               $628.00           72.352894   \n",
       "Cabrera High School              $582.00           71.657158   \n",
       "Figueroa High School             $639.00           68.698542   \n",
       "Ford High School                 $644.00           69.091274   \n",
       "Griffin High School              $625.00           71.788147   \n",
       "Hernandez High School            $652.00           68.874865   \n",
       "Holden High School               $581.00           72.583138   \n",
       "Huang High School                $655.00           68.935207   \n",
       "Johnson High School              $650.00           68.843100   \n",
       "Pena High School                 $609.00           72.088358   \n",
       "Rodriguez High School            $637.00           72.047762   \n",
       "Shelton High School              $600.00           72.034072   \n",
       "Thomas High School               $638.00           69.581651   \n",
       "Wilson High School               $578.00           69.170828   \n",
       "Wright High School               $583.00           72.047222   \n",
       "\n",
       "                       Average Reading Score  % Passing Maths  \\\n",
       "Bailey High School                 71.008842        91.639871   \n",
       "Cabrera High School                71.359526        90.850377   \n",
       "Figueroa High School               69.077993        81.654798   \n",
       "Ford High School                   69.572472        82.438846   \n",
       "Griffin High School                71.245232        91.212534   \n",
       "Hernandez High School              69.186408        80.949299   \n",
       "Holden High School                 71.660422        89.929742   \n",
       "Huang High School                  68.910525        81.693521   \n",
       "Johnson High School                69.039277        82.062592   \n",
       "Pena High School                   71.613306        91.683992   \n",
       "Rodriguez High School              70.935984        90.797699   \n",
       "Shelton High School                70.257808        91.538898   \n",
       "Thomas High School                 69.768807        83.853211   \n",
       "Wilson High School                 68.876916        82.785808   \n",
       "Wright High School                 70.969444        91.777778   \n",
       "\n",
       "                       % Passing Reading  % Overall Passing  \n",
       "Bailey High School             87.379421          80.084405  \n",
       "Cabrera High School            89.074273          80.785791  \n",
       "Figueroa High School           82.807731          67.650051  \n",
       "Ford High School               82.219788          67.469880  \n",
       "Griffin High School            88.487738          81.335150  \n",
       "Hernandez High School          81.877023          66.364617  \n",
       "Holden High School             88.524590          78.922717  \n",
       "Huang High School              81.453548          66.712376  \n",
       "Johnson High School            81.978576          67.191766  \n",
       "Pena High School               86.590437          79.209979  \n",
       "Rodriguez High School          87.396849          79.419855  \n",
       "Shelton High School            86.712095          78.875639  \n",
       "Thomas High School             82.629969          69.480122  \n",
       "Wilson High School             81.296540          67.455103  \n",
       "Wright High School             86.666667          79.722222  "
      ]
     },
     "execution_count": 47,
     "metadata": {},
     "output_type": "execute_result"
    }
   ],
   "source": [
    "per_school_summary = pd.DataFrame({'School Type':school_type,\n",
    "                           'Total Student':school_student,\n",
    "                           'Total School Budget':school_budget,\n",
    "                           'Per Student Budget':student_budget,\n",
    "                           'Average Math Score':average_school_maths,\n",
    "                           'Average Reading Score':average_school_reading,\n",
    "                           '% Passing Maths':per_school_maths,\n",
    "                           '% Passing Reading':per_school_reading,\n",
    "                           '% Overall Passing':per_school_overall})\n",
    "per_school_summary['Total School Budget'] = per_school_summary['Total School Budget'].map('${:,.2f}'.format)\n",
    "per_school_summary['Per Student Budget'] = per_school_summary['Per Student Budget'].map('${:,.2f}'.format)\n",
    "\n",
    "per_school_summary"
   ]
  },
  {
   "cell_type": "markdown",
   "metadata": {},
   "source": [
    "## Top Performing Schools (By % Overall Passing)"
   ]
  },
  {
   "cell_type": "markdown",
   "metadata": {},
   "source": [
    "* Sort and display the top five performing schools by % overall passing."
   ]
  },
  {
   "cell_type": "code",
   "execution_count": 48,
   "metadata": {
    "scrolled": true
   },
   "outputs": [
    {
     "data": {
      "text/html": [
       "<div>\n",
       "<style scoped>\n",
       "    .dataframe tbody tr th:only-of-type {\n",
       "        vertical-align: middle;\n",
       "    }\n",
       "\n",
       "    .dataframe tbody tr th {\n",
       "        vertical-align: top;\n",
       "    }\n",
       "\n",
       "    .dataframe thead th {\n",
       "        text-align: right;\n",
       "    }\n",
       "</style>\n",
       "<table border=\"1\" class=\"dataframe\">\n",
       "  <thead>\n",
       "    <tr style=\"text-align: right;\">\n",
       "      <th></th>\n",
       "      <th>School Type</th>\n",
       "      <th>Total Student</th>\n",
       "      <th>Total School Budget</th>\n",
       "      <th>Per Student Budget</th>\n",
       "      <th>Average Math Score</th>\n",
       "      <th>Average Reading Score</th>\n",
       "      <th>% Passing Maths</th>\n",
       "      <th>% Passing Reading</th>\n",
       "      <th>% Overall Passing</th>\n",
       "    </tr>\n",
       "  </thead>\n",
       "  <tbody>\n",
       "    <tr>\n",
       "      <th>Griffin High School</th>\n",
       "      <td>Independent</td>\n",
       "      <td>1468</td>\n",
       "      <td>$917,500.00</td>\n",
       "      <td>$625.00</td>\n",
       "      <td>71.788147</td>\n",
       "      <td>71.245232</td>\n",
       "      <td>91.212534</td>\n",
       "      <td>88.487738</td>\n",
       "      <td>81.335150</td>\n",
       "    </tr>\n",
       "    <tr>\n",
       "      <th>Cabrera High School</th>\n",
       "      <td>Independent</td>\n",
       "      <td>1858</td>\n",
       "      <td>$1,081,356.00</td>\n",
       "      <td>$582.00</td>\n",
       "      <td>71.657158</td>\n",
       "      <td>71.359526</td>\n",
       "      <td>90.850377</td>\n",
       "      <td>89.074273</td>\n",
       "      <td>80.785791</td>\n",
       "    </tr>\n",
       "    <tr>\n",
       "      <th>Bailey High School</th>\n",
       "      <td>Government</td>\n",
       "      <td>4976</td>\n",
       "      <td>$3,124,928.00</td>\n",
       "      <td>$628.00</td>\n",
       "      <td>72.352894</td>\n",
       "      <td>71.008842</td>\n",
       "      <td>91.639871</td>\n",
       "      <td>87.379421</td>\n",
       "      <td>80.084405</td>\n",
       "    </tr>\n",
       "    <tr>\n",
       "      <th>Wright High School</th>\n",
       "      <td>Independent</td>\n",
       "      <td>1800</td>\n",
       "      <td>$1,049,400.00</td>\n",
       "      <td>$583.00</td>\n",
       "      <td>72.047222</td>\n",
       "      <td>70.969444</td>\n",
       "      <td>91.777778</td>\n",
       "      <td>86.666667</td>\n",
       "      <td>79.722222</td>\n",
       "    </tr>\n",
       "    <tr>\n",
       "      <th>Rodriguez High School</th>\n",
       "      <td>Government</td>\n",
       "      <td>3999</td>\n",
       "      <td>$2,547,363.00</td>\n",
       "      <td>$637.00</td>\n",
       "      <td>72.047762</td>\n",
       "      <td>70.935984</td>\n",
       "      <td>90.797699</td>\n",
       "      <td>87.396849</td>\n",
       "      <td>79.419855</td>\n",
       "    </tr>\n",
       "  </tbody>\n",
       "</table>\n",
       "</div>"
      ],
      "text/plain": [
       "                       School Type  Total Student Total School Budget  \\\n",
       "Griffin High School    Independent           1468         $917,500.00   \n",
       "Cabrera High School    Independent           1858       $1,081,356.00   \n",
       "Bailey High School      Government           4976       $3,124,928.00   \n",
       "Wright High School     Independent           1800       $1,049,400.00   \n",
       "Rodriguez High School   Government           3999       $2,547,363.00   \n",
       "\n",
       "                      Per Student Budget  Average Math Score  \\\n",
       "Griffin High School              $625.00           71.788147   \n",
       "Cabrera High School              $582.00           71.657158   \n",
       "Bailey High School               $628.00           72.352894   \n",
       "Wright High School               $583.00           72.047222   \n",
       "Rodriguez High School            $637.00           72.047762   \n",
       "\n",
       "                       Average Reading Score  % Passing Maths  \\\n",
       "Griffin High School                71.245232        91.212534   \n",
       "Cabrera High School                71.359526        90.850377   \n",
       "Bailey High School                 71.008842        91.639871   \n",
       "Wright High School                 70.969444        91.777778   \n",
       "Rodriguez High School              70.935984        90.797699   \n",
       "\n",
       "                       % Passing Reading  % Overall Passing  \n",
       "Griffin High School            88.487738          81.335150  \n",
       "Cabrera High School            89.074273          80.785791  \n",
       "Bailey High School             87.379421          80.084405  \n",
       "Wright High School             86.666667          79.722222  \n",
       "Rodriguez High School          87.396849          79.419855  "
      ]
     },
     "execution_count": 48,
     "metadata": {},
     "output_type": "execute_result"
    }
   ],
   "source": [
    "top_schools = per_school_summary.sort_values('% Overall Passing', ascending=False).head()\n",
    "\n",
    "top_schools"
   ]
  },
  {
   "cell_type": "markdown",
   "metadata": {},
   "source": [
    "## Bottom Performing Schools (By % Overall Passing)"
   ]
  },
  {
   "cell_type": "markdown",
   "metadata": {},
   "source": [
    "* Sort and display the five worst-performing schools by % overall passing."
   ]
  },
  {
   "cell_type": "code",
   "execution_count": 251,
   "metadata": {},
   "outputs": [
    {
     "data": {
      "text/html": [
       "<div>\n",
       "<style scoped>\n",
       "    .dataframe tbody tr th:only-of-type {\n",
       "        vertical-align: middle;\n",
       "    }\n",
       "\n",
       "    .dataframe tbody tr th {\n",
       "        vertical-align: top;\n",
       "    }\n",
       "\n",
       "    .dataframe thead th {\n",
       "        text-align: right;\n",
       "    }\n",
       "</style>\n",
       "<table border=\"1\" class=\"dataframe\">\n",
       "  <thead>\n",
       "    <tr style=\"text-align: right;\">\n",
       "      <th></th>\n",
       "      <th>School Type</th>\n",
       "      <th>Total Student</th>\n",
       "      <th>Total School Budget</th>\n",
       "      <th>Per Student Budget</th>\n",
       "      <th>Average Math Score</th>\n",
       "      <th>Average Reading Score</th>\n",
       "      <th>% Passing Maths</th>\n",
       "      <th>% Passing Reading</th>\n",
       "      <th>% Overall Passing</th>\n",
       "    </tr>\n",
       "  </thead>\n",
       "  <tbody>\n",
       "    <tr>\n",
       "      <th>Hernandez High School</th>\n",
       "      <td>Government</td>\n",
       "      <td>4635</td>\n",
       "      <td>$3,022,020.00</td>\n",
       "      <td>$652.00</td>\n",
       "      <td>68.874865</td>\n",
       "      <td>69.186408</td>\n",
       "      <td>80.949299</td>\n",
       "      <td>81.877023</td>\n",
       "      <td>66.364617</td>\n",
       "    </tr>\n",
       "    <tr>\n",
       "      <th>Huang High School</th>\n",
       "      <td>Government</td>\n",
       "      <td>2917</td>\n",
       "      <td>$1,910,635.00</td>\n",
       "      <td>$655.00</td>\n",
       "      <td>68.935207</td>\n",
       "      <td>68.910525</td>\n",
       "      <td>81.693521</td>\n",
       "      <td>81.453548</td>\n",
       "      <td>66.712376</td>\n",
       "    </tr>\n",
       "    <tr>\n",
       "      <th>Johnson High School</th>\n",
       "      <td>Government</td>\n",
       "      <td>4761</td>\n",
       "      <td>$3,094,650.00</td>\n",
       "      <td>$650.00</td>\n",
       "      <td>68.843100</td>\n",
       "      <td>69.039277</td>\n",
       "      <td>82.062592</td>\n",
       "      <td>81.978576</td>\n",
       "      <td>67.191766</td>\n",
       "    </tr>\n",
       "    <tr>\n",
       "      <th>Wilson High School</th>\n",
       "      <td>Independent</td>\n",
       "      <td>2283</td>\n",
       "      <td>$1,319,574.00</td>\n",
       "      <td>$578.00</td>\n",
       "      <td>69.170828</td>\n",
       "      <td>68.876916</td>\n",
       "      <td>82.785808</td>\n",
       "      <td>81.296540</td>\n",
       "      <td>67.455103</td>\n",
       "    </tr>\n",
       "    <tr>\n",
       "      <th>Ford High School</th>\n",
       "      <td>Government</td>\n",
       "      <td>2739</td>\n",
       "      <td>$1,763,916.00</td>\n",
       "      <td>$644.00</td>\n",
       "      <td>69.091274</td>\n",
       "      <td>69.572472</td>\n",
       "      <td>82.438846</td>\n",
       "      <td>82.219788</td>\n",
       "      <td>67.469880</td>\n",
       "    </tr>\n",
       "  </tbody>\n",
       "</table>\n",
       "</div>"
      ],
      "text/plain": [
       "                       School Type  Total Student Total School Budget  \\\n",
       "Hernandez High School   Government           4635       $3,022,020.00   \n",
       "Huang High School       Government           2917       $1,910,635.00   \n",
       "Johnson High School     Government           4761       $3,094,650.00   \n",
       "Wilson High School     Independent           2283       $1,319,574.00   \n",
       "Ford High School        Government           2739       $1,763,916.00   \n",
       "\n",
       "                      Per Student Budget  Average Math Score  \\\n",
       "Hernandez High School            $652.00           68.874865   \n",
       "Huang High School                $655.00           68.935207   \n",
       "Johnson High School              $650.00           68.843100   \n",
       "Wilson High School               $578.00           69.170828   \n",
       "Ford High School                 $644.00           69.091274   \n",
       "\n",
       "                       Average Reading Score  % Passing Maths  \\\n",
       "Hernandez High School              69.186408        80.949299   \n",
       "Huang High School                  68.910525        81.693521   \n",
       "Johnson High School                69.039277        82.062592   \n",
       "Wilson High School                 68.876916        82.785808   \n",
       "Ford High School                   69.572472        82.438846   \n",
       "\n",
       "                       % Passing Reading  % Overall Passing  \n",
       "Hernandez High School          81.877023          66.364617  \n",
       "Huang High School              81.453548          66.712376  \n",
       "Johnson High School            81.978576          67.191766  \n",
       "Wilson High School             81.296540          67.455103  \n",
       "Ford High School               82.219788          67.469880  "
      ]
     },
     "execution_count": 251,
     "metadata": {},
     "output_type": "execute_result"
    }
   ],
   "source": [
    "bottom_schools = per_school_summary.sort_values('% Overall Passing').head()\n",
    "\n",
    "bottom_schools"
   ]
  },
  {
   "cell_type": "markdown",
   "metadata": {
    "collapsed": true
   },
   "source": [
    "## Maths Scores by Year"
   ]
  },
  {
   "cell_type": "markdown",
   "metadata": {},
   "source": [
    "* Create a table that lists the average maths score for students of each year level (9, 10, 11, 12) at each school.\n",
    "\n",
    "  * Create a pandas series for each year. Hint: use a conditional statement.\n",
    "  \n",
    "  * Group each series by school\n",
    "  \n",
    "  * Combine the series into a dataframe\n",
    "  \n",
    "  * Optional: give the displayed data cleaner formatting"
   ]
  },
  {
   "cell_type": "code",
   "execution_count": 24,
   "metadata": {},
   "outputs": [
    {
     "data": {
      "text/plain": [
       "school_name\n",
       "Bailey High School       72.675097\n",
       "Cabrera High School      70.604712\n",
       "Figueroa High School     69.325282\n",
       "Ford High School         68.617811\n",
       "Griffin High School      71.469178\n",
       "Hernandez High School    68.985075\n",
       "Holden High School       73.409639\n",
       "Huang High School        68.639316\n",
       "Johnson High School      69.287393\n",
       "Pena High School         71.187845\n",
       "Rodriguez High School    72.154626\n",
       "Shelton High School      72.331536\n",
       "Thomas High School       69.369822\n",
       "Wilson High School       69.787472\n",
       "Wright High School       70.848238\n",
       "Name: maths_score, dtype: float64"
      ]
     },
     "execution_count": 24,
     "metadata": {},
     "output_type": "execute_result"
    }
   ],
   "source": [
    "year9_maths = school_data_complete[school_data_complete['year'] == 9].groupby(['school_name'])['maths_score'].mean()\n",
    "year10_maths= school_data_complete[school_data_complete['year'] == 10].groupby(['school_name'])['maths_score'].mean()\n",
    "year11_maths= school_data_complete[school_data_complete['year'] == 11].groupby(['school_name'])['maths_score'].mean()\n",
    "year12_maths= school_data_complete[school_data_complete['year'] == 12].groupby(['school_name'])['maths_score'].mean()\n",
    "year12_maths"
   ]
  },
  {
   "cell_type": "code",
   "execution_count": 25,
   "metadata": {},
   "outputs": [
    {
     "data": {
      "text/html": [
       "<div>\n",
       "<style scoped>\n",
       "    .dataframe tbody tr th:only-of-type {\n",
       "        vertical-align: middle;\n",
       "    }\n",
       "\n",
       "    .dataframe tbody tr th {\n",
       "        vertical-align: top;\n",
       "    }\n",
       "\n",
       "    .dataframe thead th {\n",
       "        text-align: right;\n",
       "    }\n",
       "</style>\n",
       "<table border=\"1\" class=\"dataframe\">\n",
       "  <thead>\n",
       "    <tr style=\"text-align: right;\">\n",
       "      <th></th>\n",
       "      <th>Year 9</th>\n",
       "      <th>Year 10</th>\n",
       "      <th>Year 11</th>\n",
       "      <th>Year 12</th>\n",
       "    </tr>\n",
       "    <tr>\n",
       "      <th>school_name</th>\n",
       "      <th></th>\n",
       "      <th></th>\n",
       "      <th></th>\n",
       "      <th></th>\n",
       "    </tr>\n",
       "  </thead>\n",
       "  <tbody>\n",
       "    <tr>\n",
       "      <th>Bailey High School</th>\n",
       "      <td>72.493827</td>\n",
       "      <td>71.897498</td>\n",
       "      <td>72.374900</td>\n",
       "      <td>72.675097</td>\n",
       "    </tr>\n",
       "    <tr>\n",
       "      <th>Cabrera High School</th>\n",
       "      <td>72.321970</td>\n",
       "      <td>72.437768</td>\n",
       "      <td>71.008299</td>\n",
       "      <td>70.604712</td>\n",
       "    </tr>\n",
       "    <tr>\n",
       "      <th>Figueroa High School</th>\n",
       "      <td>68.477804</td>\n",
       "      <td>68.331586</td>\n",
       "      <td>68.811001</td>\n",
       "      <td>69.325282</td>\n",
       "    </tr>\n",
       "    <tr>\n",
       "      <th>Ford High School</th>\n",
       "      <td>69.021609</td>\n",
       "      <td>69.387006</td>\n",
       "      <td>69.248862</td>\n",
       "      <td>68.617811</td>\n",
       "    </tr>\n",
       "    <tr>\n",
       "      <th>Griffin High School</th>\n",
       "      <td>72.789731</td>\n",
       "      <td>71.093596</td>\n",
       "      <td>71.692521</td>\n",
       "      <td>71.469178</td>\n",
       "    </tr>\n",
       "    <tr>\n",
       "      <th>Hernandez High School</th>\n",
       "      <td>68.586831</td>\n",
       "      <td>68.867156</td>\n",
       "      <td>69.154412</td>\n",
       "      <td>68.985075</td>\n",
       "    </tr>\n",
       "    <tr>\n",
       "      <th>Holden High School</th>\n",
       "      <td>70.543307</td>\n",
       "      <td>75.105263</td>\n",
       "      <td>71.640777</td>\n",
       "      <td>73.409639</td>\n",
       "    </tr>\n",
       "    <tr>\n",
       "      <th>Huang High School</th>\n",
       "      <td>69.081754</td>\n",
       "      <td>68.533246</td>\n",
       "      <td>69.431345</td>\n",
       "      <td>68.639316</td>\n",
       "    </tr>\n",
       "    <tr>\n",
       "      <th>Johnson High School</th>\n",
       "      <td>69.469286</td>\n",
       "      <td>67.990220</td>\n",
       "      <td>68.637730</td>\n",
       "      <td>69.287393</td>\n",
       "    </tr>\n",
       "    <tr>\n",
       "      <th>Pena High School</th>\n",
       "      <td>71.996364</td>\n",
       "      <td>72.396000</td>\n",
       "      <td>72.523438</td>\n",
       "      <td>71.187845</td>\n",
       "    </tr>\n",
       "    <tr>\n",
       "      <th>Rodriguez High School</th>\n",
       "      <td>71.940722</td>\n",
       "      <td>71.779808</td>\n",
       "      <td>72.364811</td>\n",
       "      <td>72.154626</td>\n",
       "    </tr>\n",
       "    <tr>\n",
       "      <th>Shelton High School</th>\n",
       "      <td>72.932075</td>\n",
       "      <td>72.506696</td>\n",
       "      <td>70.097087</td>\n",
       "      <td>72.331536</td>\n",
       "    </tr>\n",
       "    <tr>\n",
       "      <th>Thomas High School</th>\n",
       "      <td>69.234273</td>\n",
       "      <td>70.057007</td>\n",
       "      <td>69.657831</td>\n",
       "      <td>69.369822</td>\n",
       "    </tr>\n",
       "    <tr>\n",
       "      <th>Wilson High School</th>\n",
       "      <td>69.212361</td>\n",
       "      <td>69.455446</td>\n",
       "      <td>68.378965</td>\n",
       "      <td>69.787472</td>\n",
       "    </tr>\n",
       "    <tr>\n",
       "      <th>Wright High School</th>\n",
       "      <td>71.741176</td>\n",
       "      <td>72.179012</td>\n",
       "      <td>73.275862</td>\n",
       "      <td>70.848238</td>\n",
       "    </tr>\n",
       "  </tbody>\n",
       "</table>\n",
       "</div>"
      ],
      "text/plain": [
       "                          Year 9    Year 10    Year 11    Year 12\n",
       "school_name                                                      \n",
       "Bailey High School     72.493827  71.897498  72.374900  72.675097\n",
       "Cabrera High School    72.321970  72.437768  71.008299  70.604712\n",
       "Figueroa High School   68.477804  68.331586  68.811001  69.325282\n",
       "Ford High School       69.021609  69.387006  69.248862  68.617811\n",
       "Griffin High School    72.789731  71.093596  71.692521  71.469178\n",
       "Hernandez High School  68.586831  68.867156  69.154412  68.985075\n",
       "Holden High School     70.543307  75.105263  71.640777  73.409639\n",
       "Huang High School      69.081754  68.533246  69.431345  68.639316\n",
       "Johnson High School    69.469286  67.990220  68.637730  69.287393\n",
       "Pena High School       71.996364  72.396000  72.523438  71.187845\n",
       "Rodriguez High School  71.940722  71.779808  72.364811  72.154626\n",
       "Shelton High School    72.932075  72.506696  70.097087  72.331536\n",
       "Thomas High School     69.234273  70.057007  69.657831  69.369822\n",
       "Wilson High School     69.212361  69.455446  68.378965  69.787472\n",
       "Wright High School     71.741176  72.179012  73.275862  70.848238"
      ]
     },
     "execution_count": 25,
     "metadata": {},
     "output_type": "execute_result"
    }
   ],
   "source": [
    "maths_scores_by_year = pd.DataFrame({'Year 9':year9_maths,\n",
    "                        'Year 10':year10_maths,\n",
    "                        'Year 11':year11_maths,\n",
    "                        'Year 12':year12_maths\n",
    "                        })\n",
    "\n",
    "maths_scores_by_year"
   ]
  },
  {
   "cell_type": "markdown",
   "metadata": {},
   "source": [
    "## Reading Score by Year"
   ]
  },
  {
   "cell_type": "markdown",
   "metadata": {},
   "source": [
    "* Perform the same operations as above for reading scores"
   ]
  },
  {
   "cell_type": "code",
   "execution_count": 22,
   "metadata": {},
   "outputs": [
    {
     "data": {
      "text/plain": [
       "school_name\n",
       "Bailey High School       72.195525\n",
       "Cabrera High School      71.856021\n",
       "Figueroa High School     69.082126\n",
       "Ford High School         68.849722\n",
       "Griffin High School      69.434932\n",
       "Hernandez High School    69.244136\n",
       "Holden High School       70.481928\n",
       "Huang High School        68.671795\n",
       "Johnson High School      67.992521\n",
       "Pena High School         71.513812\n",
       "Rodriguez High School    71.414449\n",
       "Shelton High School      69.070081\n",
       "Thomas High School       68.730769\n",
       "Wilson High School       69.888143\n",
       "Wright High School       69.821138\n",
       "Name: reading_score, dtype: float64"
      ]
     },
     "execution_count": 22,
     "metadata": {},
     "output_type": "execute_result"
    }
   ],
   "source": [
    "year9_reading = school_data_complete[school_data_complete['year'] == 9].groupby(['school_name'])['reading_score'].mean()\n",
    "year10_reading= school_data_complete[school_data_complete['year'] == 10].groupby(['school_name'])['reading_score'].mean()\n",
    "year11_reading= school_data_complete[school_data_complete['year'] == 11].groupby(['school_name'])['reading_score'].mean()\n",
    "year12_reading= school_data_complete[school_data_complete['year'] == 12].groupby(['school_name'])['reading_score'].mean()\n",
    "year12_reading"
   ]
  },
  {
   "cell_type": "code",
   "execution_count": 23,
   "metadata": {},
   "outputs": [
    {
     "data": {
      "text/html": [
       "<div>\n",
       "<style scoped>\n",
       "    .dataframe tbody tr th:only-of-type {\n",
       "        vertical-align: middle;\n",
       "    }\n",
       "\n",
       "    .dataframe tbody tr th {\n",
       "        vertical-align: top;\n",
       "    }\n",
       "\n",
       "    .dataframe thead th {\n",
       "        text-align: right;\n",
       "    }\n",
       "</style>\n",
       "<table border=\"1\" class=\"dataframe\">\n",
       "  <thead>\n",
       "    <tr style=\"text-align: right;\">\n",
       "      <th></th>\n",
       "      <th>Year 9</th>\n",
       "      <th>Year 10</th>\n",
       "      <th>Year 11</th>\n",
       "      <th>Year 12</th>\n",
       "    </tr>\n",
       "    <tr>\n",
       "      <th>school_name</th>\n",
       "      <th></th>\n",
       "      <th></th>\n",
       "      <th></th>\n",
       "      <th></th>\n",
       "    </tr>\n",
       "  </thead>\n",
       "  <tbody>\n",
       "    <tr>\n",
       "      <th>Bailey High School</th>\n",
       "      <td>70.901920</td>\n",
       "      <td>70.848265</td>\n",
       "      <td>70.317346</td>\n",
       "      <td>72.195525</td>\n",
       "    </tr>\n",
       "    <tr>\n",
       "      <th>Cabrera High School</th>\n",
       "      <td>71.172348</td>\n",
       "      <td>71.328326</td>\n",
       "      <td>71.201245</td>\n",
       "      <td>71.856021</td>\n",
       "    </tr>\n",
       "    <tr>\n",
       "      <th>Figueroa High School</th>\n",
       "      <td>70.261682</td>\n",
       "      <td>67.677588</td>\n",
       "      <td>69.152327</td>\n",
       "      <td>69.082126</td>\n",
       "    </tr>\n",
       "    <tr>\n",
       "      <th>Ford High School</th>\n",
       "      <td>69.615846</td>\n",
       "      <td>68.988701</td>\n",
       "      <td>70.735964</td>\n",
       "      <td>68.849722</td>\n",
       "    </tr>\n",
       "    <tr>\n",
       "      <th>Griffin High School</th>\n",
       "      <td>72.026895</td>\n",
       "      <td>70.746305</td>\n",
       "      <td>72.385042</td>\n",
       "      <td>69.434932</td>\n",
       "    </tr>\n",
       "    <tr>\n",
       "      <th>Hernandez High School</th>\n",
       "      <td>68.477569</td>\n",
       "      <td>70.621842</td>\n",
       "      <td>68.418199</td>\n",
       "      <td>69.244136</td>\n",
       "    </tr>\n",
       "    <tr>\n",
       "      <th>Holden High School</th>\n",
       "      <td>71.598425</td>\n",
       "      <td>71.096491</td>\n",
       "      <td>73.310680</td>\n",
       "      <td>70.481928</td>\n",
       "    </tr>\n",
       "    <tr>\n",
       "      <th>Huang High School</th>\n",
       "      <td>68.670616</td>\n",
       "      <td>69.516297</td>\n",
       "      <td>68.740638</td>\n",
       "      <td>68.671795</td>\n",
       "    </tr>\n",
       "    <tr>\n",
       "      <th>Johnson High School</th>\n",
       "      <td>68.719286</td>\n",
       "      <td>69.295029</td>\n",
       "      <td>69.969115</td>\n",
       "      <td>67.992521</td>\n",
       "    </tr>\n",
       "    <tr>\n",
       "      <th>Pena High School</th>\n",
       "      <td>70.949091</td>\n",
       "      <td>72.324000</td>\n",
       "      <td>71.703125</td>\n",
       "      <td>71.513812</td>\n",
       "    </tr>\n",
       "    <tr>\n",
       "      <th>Rodriguez High School</th>\n",
       "      <td>70.902921</td>\n",
       "      <td>70.137500</td>\n",
       "      <td>71.424453</td>\n",
       "      <td>71.414449</td>\n",
       "    </tr>\n",
       "    <tr>\n",
       "      <th>Shelton High School</th>\n",
       "      <td>70.715094</td>\n",
       "      <td>69.879464</td>\n",
       "      <td>71.150485</td>\n",
       "      <td>69.070081</td>\n",
       "    </tr>\n",
       "    <tr>\n",
       "      <th>Thomas High School</th>\n",
       "      <td>69.672451</td>\n",
       "      <td>69.741093</td>\n",
       "      <td>70.749398</td>\n",
       "      <td>68.730769</td>\n",
       "    </tr>\n",
       "    <tr>\n",
       "      <th>Wilson High School</th>\n",
       "      <td>68.683043</td>\n",
       "      <td>68.412541</td>\n",
       "      <td>68.796327</td>\n",
       "      <td>69.888143</td>\n",
       "    </tr>\n",
       "    <tr>\n",
       "      <th>Wright High School</th>\n",
       "      <td>71.823529</td>\n",
       "      <td>71.386831</td>\n",
       "      <td>70.475862</td>\n",
       "      <td>69.821138</td>\n",
       "    </tr>\n",
       "  </tbody>\n",
       "</table>\n",
       "</div>"
      ],
      "text/plain": [
       "                          Year 9    Year 10    Year 11    Year 12\n",
       "school_name                                                      \n",
       "Bailey High School     70.901920  70.848265  70.317346  72.195525\n",
       "Cabrera High School    71.172348  71.328326  71.201245  71.856021\n",
       "Figueroa High School   70.261682  67.677588  69.152327  69.082126\n",
       "Ford High School       69.615846  68.988701  70.735964  68.849722\n",
       "Griffin High School    72.026895  70.746305  72.385042  69.434932\n",
       "Hernandez High School  68.477569  70.621842  68.418199  69.244136\n",
       "Holden High School     71.598425  71.096491  73.310680  70.481928\n",
       "Huang High School      68.670616  69.516297  68.740638  68.671795\n",
       "Johnson High School    68.719286  69.295029  69.969115  67.992521\n",
       "Pena High School       70.949091  72.324000  71.703125  71.513812\n",
       "Rodriguez High School  70.902921  70.137500  71.424453  71.414449\n",
       "Shelton High School    70.715094  69.879464  71.150485  69.070081\n",
       "Thomas High School     69.672451  69.741093  70.749398  68.730769\n",
       "Wilson High School     68.683043  68.412541  68.796327  69.888143\n",
       "Wright High School     71.823529  71.386831  70.475862  69.821138"
      ]
     },
     "execution_count": 23,
     "metadata": {},
     "output_type": "execute_result"
    }
   ],
   "source": [
    "reading_scores_by_year = pd.DataFrame({'Year 9':year9_reading,\n",
    "                        'Year 10':year10_reading,\n",
    "                        'Year 11':year11_reading,\n",
    "                        'Year 12':year12_reading\n",
    "                        })\n",
    "\n",
    "reading_scores_by_year"
   ]
  },
  {
   "cell_type": "markdown",
   "metadata": {},
   "source": [
    "## Scores by School Spending"
   ]
  },
  {
   "cell_type": "markdown",
   "metadata": {},
   "source": [
    "* Create a table that breaks down school performances based on average Spending Ranges (Per Student). Use 4 reasonable bins to group school spending. Include in the table each of the following:\n",
    "  * Average Maths Score\n",
    "  * Average Reading Score\n",
    "  * % Passing Maths\n",
    "  * % Passing Reading\n",
    "  * Overall Passing Rate (Average of the above two)"
   ]
  },
  {
   "cell_type": "code",
   "execution_count": 68,
   "metadata": {},
   "outputs": [
    {
     "data": {
      "text/html": [
       "<div>\n",
       "<style scoped>\n",
       "    .dataframe tbody tr th:only-of-type {\n",
       "        vertical-align: middle;\n",
       "    }\n",
       "\n",
       "    .dataframe tbody tr th {\n",
       "        vertical-align: top;\n",
       "    }\n",
       "\n",
       "    .dataframe thead th {\n",
       "        text-align: right;\n",
       "    }\n",
       "</style>\n",
       "<table border=\"1\" class=\"dataframe\">\n",
       "  <thead>\n",
       "    <tr style=\"text-align: right;\">\n",
       "      <th></th>\n",
       "      <th>Average Math Score</th>\n",
       "      <th>Average Reading Score</th>\n",
       "      <th>% Passing Maths</th>\n",
       "      <th>% Passing Reading</th>\n",
       "      <th>% Overall Passing</th>\n",
       "    </tr>\n",
       "    <tr>\n",
       "      <th>Spending Ranges(Per Student)</th>\n",
       "      <th></th>\n",
       "      <th></th>\n",
       "      <th></th>\n",
       "      <th></th>\n",
       "      <th></th>\n",
       "    </tr>\n",
       "  </thead>\n",
       "  <tbody>\n",
       "    <tr>\n",
       "      <th>&lt;$585</th>\n",
       "      <td>71.364587</td>\n",
       "      <td>70.716577</td>\n",
       "      <td>88.835926</td>\n",
       "      <td>86.390517</td>\n",
       "      <td>76.721458</td>\n",
       "    </tr>\n",
       "    <tr>\n",
       "      <th>$585-630</th>\n",
       "      <td>72.065868</td>\n",
       "      <td>71.031297</td>\n",
       "      <td>91.518824</td>\n",
       "      <td>87.292423</td>\n",
       "      <td>79.876293</td>\n",
       "    </tr>\n",
       "    <tr>\n",
       "      <th>$630-645</th>\n",
       "      <td>69.854807</td>\n",
       "      <td>69.838814</td>\n",
       "      <td>84.686139</td>\n",
       "      <td>83.763585</td>\n",
       "      <td>71.004977</td>\n",
       "    </tr>\n",
       "    <tr>\n",
       "      <th>$645-680</th>\n",
       "      <td>68.884391</td>\n",
       "      <td>69.045403</td>\n",
       "      <td>81.568470</td>\n",
       "      <td>81.769716</td>\n",
       "      <td>66.756253</td>\n",
       "    </tr>\n",
       "  </tbody>\n",
       "</table>\n",
       "</div>"
      ],
      "text/plain": [
       "                              Average Math Score  Average Reading Score  \\\n",
       "Spending Ranges(Per Student)                                              \n",
       "<$585                                  71.364587              70.716577   \n",
       "$585-630                               72.065868              71.031297   \n",
       "$630-645                               69.854807              69.838814   \n",
       "$645-680                               68.884391              69.045403   \n",
       "\n",
       "                              % Passing Maths  % Passing Reading  \\\n",
       "Spending Ranges(Per Student)                                       \n",
       "<$585                               88.835926          86.390517   \n",
       "$585-630                            91.518824          87.292423   \n",
       "$630-645                            84.686139          83.763585   \n",
       "$645-680                            81.568470          81.769716   \n",
       "\n",
       "                              % Overall Passing  \n",
       "Spending Ranges(Per Student)                     \n",
       "<$585                                 76.721458  \n",
       "$585-630                              79.876293  \n",
       "$630-645                              71.004977  \n",
       "$645-680                              66.756253  "
      ]
     },
     "execution_count": 68,
     "metadata": {},
     "output_type": "execute_result"
    }
   ],
   "source": [
    "spending_bins = [0, 585, 630, 645, 680]\n",
    "labels = [\"<$585\", \"$585-630\", \"$630-645\", \"$645-680\"]\n",
    "per_school_summary['Per Student Budget'] = per_school_summary['Per Student Budget'].replace('[\\$,]','',regex=True).astype(float)\n",
    "per_school_summary['Spending Ranges(Per Student)'] = pd.cut(per_school_summary['Per Student Budget'], spending_bins, labels = labels, include_lowest=True)\n",
    "df_summary = per_school_summary[['Spending Ranges(Per Student)', 'Average Math Score', 'Average Reading Score', '% Passing Maths', '% Passing Reading', '% Overall Passing']].reset_index(drop=True)\n",
    "spending_summary = df_summary.groupby('Spending Ranges(Per Student)').mean()\n",
    "spending_summary"
   ]
  },
  {
   "cell_type": "markdown",
   "metadata": {},
   "source": [
    "## Scores by School Size"
   ]
  },
  {
   "cell_type": "markdown",
   "metadata": {},
   "source": [
    "* Perform the same operations as above, based on school size."
   ]
  },
  {
   "cell_type": "code",
   "execution_count": 71,
   "metadata": {
    "scrolled": true
   },
   "outputs": [
    {
     "data": {
      "text/html": [
       "<div>\n",
       "<style scoped>\n",
       "    .dataframe tbody tr th:only-of-type {\n",
       "        vertical-align: middle;\n",
       "    }\n",
       "\n",
       "    .dataframe tbody tr th {\n",
       "        vertical-align: top;\n",
       "    }\n",
       "\n",
       "    .dataframe thead th {\n",
       "        text-align: right;\n",
       "    }\n",
       "</style>\n",
       "<table border=\"1\" class=\"dataframe\">\n",
       "  <thead>\n",
       "    <tr style=\"text-align: right;\">\n",
       "      <th></th>\n",
       "      <th>Average Math Score</th>\n",
       "      <th>Average Reading Score</th>\n",
       "      <th>% Passing Maths</th>\n",
       "      <th>% Passing Reading</th>\n",
       "      <th>% Overall Passing</th>\n",
       "    </tr>\n",
       "    <tr>\n",
       "      <th>School Size</th>\n",
       "      <th></th>\n",
       "      <th></th>\n",
       "      <th></th>\n",
       "      <th></th>\n",
       "      <th></th>\n",
       "    </tr>\n",
       "  </thead>\n",
       "  <tbody>\n",
       "    <tr>\n",
       "      <th>Small (&lt;1000)</th>\n",
       "      <td>72.335748</td>\n",
       "      <td>71.636864</td>\n",
       "      <td>90.806867</td>\n",
       "      <td>87.557513</td>\n",
       "      <td>79.066348</td>\n",
       "    </tr>\n",
       "    <tr>\n",
       "      <th>Medium (1000-2000)</th>\n",
       "      <td>71.421650</td>\n",
       "      <td>70.720164</td>\n",
       "      <td>89.846560</td>\n",
       "      <td>86.714149</td>\n",
       "      <td>78.039785</td>\n",
       "    </tr>\n",
       "    <tr>\n",
       "      <th>Large (2000-5000)</th>\n",
       "      <td>69.751809</td>\n",
       "      <td>69.576052</td>\n",
       "      <td>84.252804</td>\n",
       "      <td>83.301185</td>\n",
       "      <td>70.293507</td>\n",
       "    </tr>\n",
       "  </tbody>\n",
       "</table>\n",
       "</div>"
      ],
      "text/plain": [
       "                    Average Math Score  Average Reading Score  \\\n",
       "School Size                                                     \n",
       "Small (<1000)                72.335748              71.636864   \n",
       "Medium (1000-2000)           71.421650              70.720164   \n",
       "Large (2000-5000)            69.751809              69.576052   \n",
       "\n",
       "                    % Passing Maths  % Passing Reading  % Overall Passing  \n",
       "School Size                                                                \n",
       "Small (<1000)             90.806867          87.557513          79.066348  \n",
       "Medium (1000-2000)        89.846560          86.714149          78.039785  \n",
       "Large (2000-5000)         84.252804          83.301185          70.293507  "
      ]
     },
     "execution_count": 71,
     "metadata": {},
     "output_type": "execute_result"
    }
   ],
   "source": [
    "size_bins = [0, 1000, 2000, 5000]\n",
    "labels = [\"Small (<1000)\", \"Medium (1000-2000)\", \"Large (2000-5000)\"]\n",
    "per_school_summary['School Size'] = pd.cut(per_school_summary['Total Student'], size_bins, labels = labels, include_lowest=True)\n",
    "df_size_summary = per_school_summary[['School Size', 'Average Math Score', 'Average Reading Score', '% Passing Maths', '% Passing Reading', '% Overall Passing']].reset_index(drop=True)\n",
    "size_summary = df_size_summary.groupby('School Size').mean()\n",
    "size_summary"
   ]
  },
  {
   "cell_type": "markdown",
   "metadata": {},
   "source": [
    "## Scores by School Type"
   ]
  },
  {
   "cell_type": "markdown",
   "metadata": {},
   "source": [
    "* Perform the same operations as above, based on school type"
   ]
  },
  {
   "cell_type": "code",
   "execution_count": 74,
   "metadata": {},
   "outputs": [
    {
     "data": {
      "text/html": [
       "<div>\n",
       "<style scoped>\n",
       "    .dataframe tbody tr th:only-of-type {\n",
       "        vertical-align: middle;\n",
       "    }\n",
       "\n",
       "    .dataframe tbody tr th {\n",
       "        vertical-align: top;\n",
       "    }\n",
       "\n",
       "    .dataframe thead th {\n",
       "        text-align: right;\n",
       "    }\n",
       "</style>\n",
       "<table border=\"1\" class=\"dataframe\">\n",
       "  <thead>\n",
       "    <tr style=\"text-align: right;\">\n",
       "      <th></th>\n",
       "      <th>Average Math Score</th>\n",
       "      <th>Average Reading Score</th>\n",
       "      <th>% Passing Maths</th>\n",
       "      <th>% Passing Reading</th>\n",
       "      <th>% Overall Passing</th>\n",
       "    </tr>\n",
       "    <tr>\n",
       "      <th>School Type</th>\n",
       "      <th></th>\n",
       "      <th></th>\n",
       "      <th></th>\n",
       "      <th></th>\n",
       "      <th></th>\n",
       "    </tr>\n",
       "  </thead>\n",
       "  <tbody>\n",
       "    <tr>\n",
       "      <th>Government</th>\n",
       "      <td>69.834806</td>\n",
       "      <td>69.675929</td>\n",
       "      <td>84.462375</td>\n",
       "      <td>83.587562</td>\n",
       "      <td>70.698993</td>\n",
       "    </tr>\n",
       "    <tr>\n",
       "      <th>Independent</th>\n",
       "      <td>71.368822</td>\n",
       "      <td>70.718933</td>\n",
       "      <td>89.204043</td>\n",
       "      <td>86.247789</td>\n",
       "      <td>76.973340</td>\n",
       "    </tr>\n",
       "  </tbody>\n",
       "</table>\n",
       "</div>"
      ],
      "text/plain": [
       "             Average Math Score  Average Reading Score  % Passing Maths  \\\n",
       "School Type                                                               \n",
       "Government            69.834806              69.675929        84.462375   \n",
       "Independent           71.368822              70.718933        89.204043   \n",
       "\n",
       "             % Passing Reading  % Overall Passing  \n",
       "School Type                                        \n",
       "Government           83.587562          70.698993  \n",
       "Independent          86.247789          76.973340  "
      ]
     },
     "execution_count": 74,
     "metadata": {},
     "output_type": "execute_result"
    }
   ],
   "source": [
    "df_type_summary = per_school_summary[['School Type', 'Average Math Score', 'Average Reading Score', '% Passing Maths', '% Passing Reading', '% Overall Passing']].reset_index(drop=True)\n",
    "type_summary = df_type_summary.groupby('School Type').mean()\n",
    "type_summary"
   ]
  },
  {
   "cell_type": "code",
   "execution_count": null,
   "metadata": {},
   "outputs": [],
   "source": []
  }
 ],
 "metadata": {
  "anaconda-cloud": {},
  "kernel_info": {
   "name": "python3"
  },
  "kernelspec": {
   "display_name": "Python 3 (ipykernel)",
   "language": "python",
   "name": "python3"
  },
  "language_info": {
   "codemirror_mode": {
    "name": "ipython",
    "version": 3
   },
   "file_extension": ".py",
   "mimetype": "text/x-python",
   "name": "python",
   "nbconvert_exporter": "python",
   "pygments_lexer": "ipython3",
   "version": "3.9.16"
  },
  "latex_envs": {
   "LaTeX_envs_menu_present": true,
   "autoclose": false,
   "autocomplete": true,
   "bibliofile": "biblio.bib",
   "cite_by": "apalike",
   "current_citInitial": 1,
   "eqLabelWithNumbers": true,
   "eqNumInitial": 1,
   "hotkeys": {
    "equation": "Ctrl-E",
    "itemize": "Ctrl-I"
   },
   "labels_anchors": false,
   "latex_user_defs": false,
   "report_style_numbering": false,
   "user_envs_cfg": false
  },
  "nteract": {
   "version": "0.8.4"
  }
 },
 "nbformat": 4,
 "nbformat_minor": 1
}
